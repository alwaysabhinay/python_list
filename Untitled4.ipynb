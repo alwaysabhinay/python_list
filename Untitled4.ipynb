{
  "nbformat": 4,
  "nbformat_minor": 0,
  "metadata": {
    "colab": {
      "provenance": [],
      "toc_visible": true,
      "authorship_tag": "ABX9TyPMNMP5qa44XrJcf4ymSOTz",
      "include_colab_link": true
    },
    "kernelspec": {
      "name": "python3",
      "display_name": "Python 3"
    },
    "language_info": {
      "name": "python"
    }
  },
  "cells": [
    {
      "cell_type": "markdown",
      "metadata": {
        "id": "view-in-github",
        "colab_type": "text"
      },
      "source": [
        "<a href=\"https://colab.research.google.com/github/alwaysabhinay/python_list/blob/main/Untitled4.ipynb\" target=\"_parent\"><img src=\"https://colab.research.google.com/assets/colab-badge.svg\" alt=\"Open In Colab\"/></a>"
      ]
    },
    {
      "cell_type": "code",
      "execution_count": null,
      "metadata": {
        "id": "N2Qmyxoo7o-X"
      },
      "outputs": [],
      "source": [
        "import numpy as np\n",
        "m = 2\n",
        "c = 3\n",
        "x_values = np.linspace(0, 10, 100)\n",
        "y_values = m * x_values + c\n",
        "print(y_values"
      ]
    },
    {
      "cell_type": "code",
      "source": [
        "lis=[1,2,3,4,\"Arthemeticerror\",\"emiy\",\"hello\",\"hii\"]"
      ],
      "metadata": {
        "id": "hXWy9EXr3lsJ"
      },
      "execution_count": null,
      "outputs": []
    },
    {
      "cell_type": "code",
      "source": [
        "lis.pop(4)"
      ],
      "metadata": {
        "colab": {
          "base_uri": "https://localhost:8080/",
          "height": 35
        },
        "id": "QgkE11bA4Z-9",
        "outputId": "b70aa02f-ecd5-4071-d136-45d41085eab2"
      },
      "execution_count": null,
      "outputs": [
        {
          "output_type": "execute_result",
          "data": {
            "text/plain": [
              "'Arthemeticerror'"
            ],
            "application/vnd.google.colaboratory.intrinsic+json": {
              "type": "string"
            }
          },
          "metadata": {},
          "execution_count": 4
        }
      ]
    },
    {
      "cell_type": "code",
      "source": [
        "lis"
      ],
      "metadata": {
        "colab": {
          "base_uri": "https://localhost:8080/"
        },
        "id": "nNqK7q9H40l4",
        "outputId": "f6ea1c9a-eb98-4908-9ffc-3a8b0cf6c597"
      },
      "execution_count": null,
      "outputs": [
        {
          "output_type": "execute_result",
          "data": {
            "text/plain": [
              "[1, 2, 3, 4, 'hello', 'hii']"
            ]
          },
          "metadata": {},
          "execution_count": 5
        }
      ]
    },
    {
      "cell_type": "code",
      "source": [
        "abhi=[1,2,3,7]\n",
        "sai=[4,5,6]\n",
        "l1=list(zip(abhi,sai))\n",
        "print(\"list of abhi and sai is:\",l1)"
      ],
      "metadata": {
        "colab": {
          "base_uri": "https://localhost:8080/"
        },
        "id": "Ufa_J12A5X8E",
        "outputId": "adede6d1-d171-4b47-e30d-ebb72cf2d123"
      },
      "execution_count": null,
      "outputs": [
        {
          "output_type": "stream",
          "name": "stdout",
          "text": [
            "list of abhi and sai is: [(1, 4), (2, 5), (3, 6)]\n"
          ]
        }
      ]
    },
    {
      "cell_type": "code",
      "source": [
        "abhi=[1,2,3,7]\n",
        "sai=[4,5,6]\n",
        "sunny=[9,2,8]\n",
        "l1=list(zip(abhi,sai,sunny))\n",
        "print(\"list of abhi and sai and also sunny is:\",l1)"
      ],
      "metadata": {
        "colab": {
          "base_uri": "https://localhost:8080/"
        },
        "id": "0RoQtInO6m0i",
        "outputId": "2cd904cb-b2f3-4838-c61d-ac0e6da44d94"
      },
      "execution_count": null,
      "outputs": [
        {
          "output_type": "stream",
          "name": "stdout",
          "text": [
            "list of abhi and sai and also sunny is: [(1, 4, 9), (2, 5, 2), (3, 6, 8)]\n"
          ]
        }
      ]
    },
    {
      "cell_type": "code",
      "source": [
        "l1=[4,3,5,6]\n",
        "print(enumerate(l1))"
      ],
      "metadata": {
        "colab": {
          "base_uri": "https://localhost:8080/"
        },
        "id": "1GU7M_QT7OuF",
        "outputId": "9c74b128-4a04-4651-ec51-445908ea0b25"
      },
      "execution_count": null,
      "outputs": [
        {
          "output_type": "stream",
          "name": "stdout",
          "text": [
            "<enumerate object at 0x7a5fc6053d00>\n"
          ]
        }
      ]
    },
    {
      "cell_type": "code",
      "source": [
        "l1=[4,7,289,65,9]\n",
        "l1.sort()\n",
        "print(l1)"
      ],
      "metadata": {
        "colab": {
          "base_uri": "https://localhost:8080/"
        },
        "id": "qZqvQH2e73iY",
        "outputId": "8cd21ddc-0ef0-48b8-9c2f-163f59dffe70"
      },
      "execution_count": null,
      "outputs": [
        {
          "output_type": "stream",
          "name": "stdout",
          "text": [
            "[4, 7, 9, 65, 289]\n"
          ]
        }
      ]
    },
    {
      "cell_type": "code",
      "source": [
        "l1=[4,7,289,65,9]\n",
        "print(l1)\n",
        "print(sorted(l1))"
      ],
      "metadata": {
        "colab": {
          "base_uri": "https://localhost:8080/"
        },
        "id": "6zA0OoKf8H7E",
        "outputId": "16cad86d-e634-4714-ed6e-ca5ebc710ffd"
      },
      "execution_count": null,
      "outputs": [
        {
          "output_type": "stream",
          "name": "stdout",
          "text": [
            "[4, 7, 289, 65, 9]\n",
            "[4, 7, 9, 65, 289]\n"
          ]
        }
      ]
    },
    {
      "cell_type": "code",
      "source": [
        "abhi={4,2,7,1,7}\n",
        "print(abhi)"
      ],
      "metadata": {
        "colab": {
          "base_uri": "https://localhost:8080/"
        },
        "id": "LFn0i3u688iH",
        "outputId": "3891ee35-a9b7-4025-b517-f09eeb67fd17"
      },
      "execution_count": null,
      "outputs": [
        {
          "output_type": "stream",
          "name": "stdout",
          "text": [
            "{1, 2, 4, 7}\n"
          ]
        }
      ]
    },
    {
      "cell_type": "code",
      "source": [
        "marvel_dist = {'name':'Thor' , 'place':'asgard', 'weapon':'mjolnir'}"
      ],
      "metadata": {
        "id": "xO85AAIpgP26"
      },
      "execution_count": 1,
      "outputs": []
    },
    {
      "cell_type": "code",
      "source": [
        "marvel_dist['name']"
      ],
      "metadata": {
        "colab": {
          "base_uri": "https://localhost:8080/",
          "height": 35
        },
        "id": "7GBQzfmag0Xx",
        "outputId": "2c234274-fa47-4c2c-f569-a28db71d8c85"
      },
      "execution_count": 2,
      "outputs": [
        {
          "output_type": "execute_result",
          "data": {
            "text/plain": [
              "'Thor'"
            ],
            "application/vnd.google.colaboratory.intrinsic+json": {
              "type": "string"
            }
          },
          "metadata": {},
          "execution_count": 2
        }
      ]
    },
    {
      "cell_type": "code",
      "source": [
        "list(marvel_dist.keys())"
      ],
      "metadata": {
        "colab": {
          "base_uri": "https://localhost:8080/"
        },
        "id": "GWNWNWKPg9Xv",
        "outputId": "c1d96e90-d216-4a72-80c4-3939b57e6879"
      },
      "execution_count": 3,
      "outputs": [
        {
          "output_type": "execute_result",
          "data": {
            "text/plain": [
              "['name', 'place', 'weapon']"
            ]
          },
          "metadata": {},
          "execution_count": 3
        }
      ]
    },
    {
      "cell_type": "code",
      "source": [
        "list(marvel_dist.values())"
      ],
      "metadata": {
        "colab": {
          "base_uri": "https://localhost:8080/"
        },
        "id": "I7dc_2EhhJzi",
        "outputId": "8425732c-8ff6-48a5-a9ea-705c50bd34e5"
      },
      "execution_count": 4,
      "outputs": [
        {
          "output_type": "execute_result",
          "data": {
            "text/plain": [
              "['Thor', 'asgard', 'mjolnir']"
            ]
          },
          "metadata": {},
          "execution_count": 4
        }
      ]
    },
    {
      "cell_type": "code",
      "source": [
        "marvel_dist"
      ],
      "metadata": {
        "colab": {
          "base_uri": "https://localhost:8080/"
        },
        "id": "klFJwmD8hUiB",
        "outputId": "933e24b2-3885-4e9c-8131-e3b8ef89fbad"
      },
      "execution_count": 7,
      "outputs": [
        {
          "output_type": "execute_result",
          "data": {
            "text/plain": [
              "{'name': 'Thor', 'place': 'asgard', 'weapon': 'mjolnir'}"
            ]
          },
          "metadata": {},
          "execution_count": 7
        }
      ]
    },
    {
      "cell_type": "code",
      "source": [
        "d1={'name':'abhi','MCA':['python','ml','DL','NLP']}\n",
        "d1\n",
        "d2=d1.copy()"
      ],
      "metadata": {
        "id": "Fu4P5iGni1rH"
      },
      "execution_count": 8,
      "outputs": []
    },
    {
      "cell_type": "code",
      "source": [
        "del d1['name']"
      ],
      "metadata": {
        "id": "hJMmENIIjVQ8"
      },
      "execution_count": 9,
      "outputs": []
    },
    {
      "cell_type": "code",
      "source": [
        "d2"
      ],
      "metadata": {
        "colab": {
          "base_uri": "https://localhost:8080/"
        },
        "id": "SY4PPTKZjcD_",
        "outputId": "e1d87f5b-b2c8-462d-87e3-525e78bd7c2d"
      },
      "execution_count": 10,
      "outputs": [
        {
          "output_type": "execute_result",
          "data": {
            "text/plain": [
              "{'name': 'abhi', 'MCA': ['python', 'ml', 'DL', 'NLP']}"
            ]
          },
          "metadata": {},
          "execution_count": 10
        }
      ]
    },
    {
      "cell_type": "code",
      "source": [
        "d1.pop(name)"
      ],
      "metadata": {
        "colab": {
          "base_uri": "https://localhost:8080/",
          "height": 141
        },
        "id": "w_8GMohzjjAP",
        "outputId": "c3cfac9f-c872-444a-ba71-97fba2cf588b"
      },
      "execution_count": 15,
      "outputs": [
        {
          "output_type": "error",
          "ename": "NameError",
          "evalue": "name 'name' is not defined",
          "traceback": [
            "\u001b[0;31m---------------------------------------------------------------------------\u001b[0m",
            "\u001b[0;31mNameError\u001b[0m                                 Traceback (most recent call last)",
            "\u001b[0;32m<ipython-input-15-5055bf3592b0>\u001b[0m in \u001b[0;36m<cell line: 1>\u001b[0;34m()\u001b[0m\n\u001b[0;32m----> 1\u001b[0;31m \u001b[0md1\u001b[0m\u001b[0;34m.\u001b[0m\u001b[0mpop\u001b[0m\u001b[0;34m(\u001b[0m\u001b[0mname\u001b[0m\u001b[0;34m)\u001b[0m\u001b[0;34m\u001b[0m\u001b[0;34m\u001b[0m\u001b[0m\n\u001b[0m",
            "\u001b[0;31mNameError\u001b[0m: name 'name' is not defined"
          ]
        }
      ]
    }
  ]
}